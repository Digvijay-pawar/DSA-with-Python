{
 "cells": [
  {
   "cell_type": "markdown",
   "metadata": {},
   "source": [
    "#Stack in Python\n",
    " =>Methods of the stack\n",
    " 1) isEmpty() - return boolean value\n",
    " 2) push() - insert element at top of the stack\n",
    " 3) pop() - remove element from top of the stack\n",
    " 4) peek() - return top element of the stack\n",
    " 5) size() - return size of the stack"
   ]
  },
  {
   "cell_type": "code",
   "execution_count": 5,
   "metadata": {},
   "outputs": [
    {
     "name": "stdout",
     "output_type": "stream",
     "text": [
      "30\n",
      "20\n",
      "10\n"
     ]
    },
    {
     "data": {
      "text/plain": [
       "10"
      ]
     },
     "execution_count": 5,
     "metadata": {},
     "output_type": "execute_result"
    }
   ],
   "source": [
    "#Stack Using List\n",
    "stk = []\n",
    "\n",
    "#push\n",
    "stk.append(10)\n",
    "stk.append(20)\n",
    "stk.append(30)\n",
    "\n",
    "#peek\n",
    "print(stk[-1])  #stk = [10, 20, 30]\n",
    "#pop\n",
    "stk.pop()       #stk = [10, 20]\n",
    "\n",
    "print(stk[-1])  #stk = [10, 20]\n",
    "stk.pop()       #stk = [10]\n",
    "\n",
    "print(stk[-1])  #stk = [10]\n",
    "stk.pop()       #stk = []\n",
    "\n"
   ]
  },
  {
   "cell_type": "code",
   "execution_count": null,
   "metadata": {},
   "outputs": [],
   "source": []
  },
  {
   "cell_type": "code",
   "execution_count": 8,
   "metadata": {},
   "outputs": [
    {
     "name": "stdout",
     "output_type": "stream",
     "text": [
      "deque([100, 200, 300])\n",
      "300\n",
      "200\n",
      "2\n"
     ]
    }
   ],
   "source": [
    "from collections import deque\n",
    "stack = deque()\n",
    "\n",
    "#push\n",
    "stack.append(100)\n",
    "stack.append(200)\n",
    "stack.append(300)\n",
    "\n",
    "print(stack)\n",
    "\n",
    "#pop\n",
    "print(stack.pop())\n",
    "\n",
    "#peek\n",
    "top = stack[-1]\n",
    "print(top)\n",
    "\n",
    "size = len(stack)\n",
    "print(size)"
   ]
  },
  {
   "cell_type": "code",
   "execution_count": 70,
   "metadata": {},
   "outputs": [],
   "source": [
    "class Node:\n",
    "    def __init__(self, data) -> None:\n",
    "        self.data = data\n",
    "        self.next = None        "
   ]
  },
  {
   "cell_type": "code",
   "execution_count": 99,
   "metadata": {},
   "outputs": [],
   "source": [
    "import math\n",
    "class Stack:\n",
    "    def __init__(self) -> None:\n",
    "        self.head = None\n",
    "        self.size = 0\n",
    "        \n",
    "    def __str__(self) -> str:\n",
    "        ptr = self.head\n",
    "        if ptr is None:\n",
    "            return \"Empty\"\n",
    "        else:\n",
    "            while ptr is not None:\n",
    "                print(f\"{ptr.data} =>\", end=\"\")\n",
    "                ptr = ptr.next\n",
    "            print(\"None\")\n",
    "            return \"\"\n",
    "    def push(self, data):\n",
    "        new_node = Node(data)\n",
    "        new_node.next = self.head\n",
    "        self.head = new_node\n",
    "        self.size += 1  \n",
    "          \n",
    "    def peek(self):\n",
    "        if self.head is None:\n",
    "            return math.inf\n",
    "        else:\n",
    "            return self.head.data\n",
    "    \n",
    "    def isEmpty(self):\n",
    "        return self.size == 0\n",
    "        \n",
    "    def pop(self):\n",
    "        if self.head is None:\n",
    "            return \"Empty\"\n",
    "        else:\n",
    "            res = self.head\n",
    "            self.head = self.head.next\n",
    "            self.size -= 1\n",
    "            return res\n",
    "        \n",
    "        "
   ]
  },
  {
   "cell_type": "code",
   "execution_count": 102,
   "metadata": {},
   "outputs": [
    {
     "name": "stdout",
     "output_type": "stream",
     "text": [
      "20 =>10 =>None\n",
      "\n",
      "20\n"
     ]
    },
    {
     "data": {
      "text/plain": [
       "'Empty'"
      ]
     },
     "execution_count": 102,
     "metadata": {},
     "output_type": "execute_result"
    }
   ],
   "source": [
    "stack = Stack()\n",
    "stack.push(10)\n",
    "stack.push(20)\n",
    "\n",
    "print(stack)\n",
    "\n",
    "print(stack.peek())\n",
    "\n",
    "stack.pop()\n",
    "stack.pop()\n",
    "stack.pop()\n",
    "# print(stack)"
   ]
  },
  {
   "cell_type": "code",
   "execution_count": 88,
   "metadata": {},
   "outputs": [
    {
     "name": "stdout",
     "output_type": "stream",
     "text": [
      "Unbalance\n"
     ]
    }
   ],
   "source": [
    "# Check paranthesis\n",
    "string = \"({[})\"\n",
    "\n",
    "def check(s):\n",
    "    open = ['[', '(', '{']\n",
    "    close = [']', \"}\", \")\"]\n",
    "    stack = Stack()\n",
    "    for i in s:\n",
    "        if i in open:\n",
    "            stack.push(i)\n",
    "        elif i in close:\n",
    "            stack.pop()\n",
    "    if stack.size == 0:\n",
    "        return \"Balance\"\n",
    "    else:\n",
    "        return \"Unbalance\"\n",
    "print(check(string))\n",
    "            \n",
    "        "
   ]
  },
  {
   "cell_type": "markdown",
   "metadata": {},
   "source": [
    "#Deque in Python\n",
    " =>Methods of the deque\n",
    " 1) enqueue() = insert from front end\n",
    " 2) dequeue() - remove from rear end\n",
    " 3) getRear() - get rear item\n",
    " 4) getFront() - get front item\n",
    " 5) size() - return size of the queue"
   ]
  },
  {
   "cell_type": "code",
   "execution_count": 133,
   "metadata": {},
   "outputs": [],
   "source": [
    "class Queue:\n",
    "    def __init__(self) -> None:\n",
    "        self.front = self.rear = None\n",
    "        \n",
    "    def __str__(self) -> str:\n",
    "        if self.front is None:\n",
    "            return \"Empty\"\n",
    "        ptr = self.front\n",
    "        print(\"Front=>\", end=\"\")\n",
    "        while ptr is not None:\n",
    "            print(f\"{ptr.data}=>\", end=\"\")\n",
    "            ptr = ptr.next\n",
    "        print(\"Rear\")\n",
    "        return \"\"\n",
    "        \n",
    "    def enqueue(self, data):\n",
    "        new_node = Node(data)\n",
    "        if self.rear is None:\n",
    "            self.front = self.rear = new_node\n",
    "            return\n",
    "        new_node.next = self.front\n",
    "        self.front = new_node\n",
    "        \n",
    "    def dequeue(self):\n",
    "        if self.rear is None:\n",
    "            return \"Empty\"\n",
    "        if self.front is self.rear:\n",
    "            self.front = self.rear = None\n",
    "            return\n",
    "        ptr = self.front\n",
    "        while ptr.next is not self.rear:\n",
    "            ptr = ptr.next\n",
    "        temp = ptr.next\n",
    "        ptr.next = None\n",
    "        self.rear = ptr\n",
    "        return temp.data\n",
    "    \n",
    "    def get_front(self):\n",
    "        if self.front is None:\n",
    "            return \"Empty\"\n",
    "        else:\n",
    "            return self.front.data\n",
    "    \n",
    "    def get_rear(self):\n",
    "        if self.rear is None:\n",
    "            return \"Empty\"\n",
    "        else:\n",
    "         return self.rear.data\n"
   ]
  },
  {
   "cell_type": "code",
   "execution_count": 135,
   "metadata": {},
   "outputs": [
    {
     "name": "stdout",
     "output_type": "stream",
     "text": [
      "Front=>20=>10=>Rear\n",
      "\n",
      "Front=>20=>Rear\n",
      "\n",
      "Empty\n",
      "Empty Empty\n"
     ]
    }
   ],
   "source": [
    "queue = Queue()\n",
    "queue.enqueue(10)\n",
    "queue.enqueue(20)\n",
    "\n",
    "\n",
    "print(queue)\n",
    "\n",
    "queue.dequeue()\n",
    "print(queue)\n",
    "\n",
    "queue.dequeue()\n",
    "print(queue)\n",
    "\n",
    "print(queue.get_front(), queue.get_rear())"
   ]
  },
  {
   "cell_type": "code",
   "execution_count": null,
   "metadata": {},
   "outputs": [],
   "source": []
  }
 ],
 "metadata": {
  "kernelspec": {
   "display_name": "Python 3",
   "language": "python",
   "name": "python3"
  },
  "language_info": {
   "codemirror_mode": {
    "name": "ipython",
    "version": 3
   },
   "file_extension": ".py",
   "mimetype": "text/x-python",
   "name": "python",
   "nbconvert_exporter": "python",
   "pygments_lexer": "ipython3",
   "version": "3.12.3"
  }
 },
 "nbformat": 4,
 "nbformat_minor": 2
}
