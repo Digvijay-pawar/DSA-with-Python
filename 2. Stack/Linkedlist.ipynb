{
 "cells": [
  {
   "cell_type": "code",
   "execution_count": null,
   "metadata": {},
   "outputs": [],
   "source": [
    "#Single Linked list"
   ]
  },
  {
   "cell_type": "code",
   "execution_count": 4,
   "metadata": {},
   "outputs": [],
   "source": [
    "class Node:\n",
    "    def __init__(self, data):\n",
    "        self.data = data\n",
    "        self.next = None"
   ]
  },
  {
   "cell_type": "code",
   "execution_count": 6,
   "metadata": {},
   "outputs": [],
   "source": [
    "class Linklist:\n",
    "    def __init__(self):\n",
    "        self.head = None\n",
    "        \n",
    "    def at_start(self, data):\n",
    "        new_node = Node(data)\n",
    "        new_node.next = self.head\n",
    "        self.head = new_node\n",
    "        \n",
    "    def at_end(self, data):\n",
    "        new_node = Node(data)\n",
    "        ptr = self.head\n",
    "        if ptr is None:\n",
    "            self.head = new_node\n",
    "        while ptr.next is not None:\n",
    "            ptr = ptr.next\n",
    "        ptr.next = new_node\n",
    "    \n",
    "    \n",
    "        \n",
    "    def __str__(self):\n",
    "        ptr = self.head\n",
    "        if ptr is None:\n",
    "            print(\"Empty\")\n",
    "            return \"\"\n",
    "        while ptr is not None:\n",
    "            print(f\"{ptr.data} =>\", end=\"\")\n",
    "            ptr = ptr.next\n",
    "        print(\"None\")\n",
    "        return \"\"\n",
    "            "
   ]
  },
  {
   "cell_type": "code",
   "execution_count": 9,
   "metadata": {},
   "outputs": [
    {
     "name": "stdout",
     "output_type": "stream",
     "text": [
      "10 =>None\n",
      "\n",
      "20 =>10 =>None\n",
      "\n",
      "20 =>10 =>5 =>None\n",
      "\n"
     ]
    }
   ],
   "source": [
    "ls = Linklist()\n",
    "ls.at_start(10)\n",
    "print(ls)\n",
    "ls.at_start(20)\n",
    "print(ls)\n",
    "ls.at_end(5)\n",
    "print(ls)"
   ]
  },
  {
   "cell_type": "code",
   "execution_count": null,
   "metadata": {},
   "outputs": [],
   "source": []
  }
 ],
 "metadata": {
  "kernelspec": {
   "display_name": "Python 3",
   "language": "python",
   "name": "python3"
  },
  "language_info": {
   "codemirror_mode": {
    "name": "ipython",
    "version": 3
   },
   "file_extension": ".py",
   "mimetype": "text/x-python",
   "name": "python",
   "nbconvert_exporter": "python",
   "pygments_lexer": "ipython3",
   "version": "3.12.3"
  }
 },
 "nbformat": 4,
 "nbformat_minor": 2
}
